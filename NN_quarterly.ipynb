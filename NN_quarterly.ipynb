{
  "nbformat": 4,
  "nbformat_minor": 0,
  "metadata": {
    "colab": {
      "provenance": []
    },
    "kernelspec": {
      "name": "python3",
      "display_name": "Python 3"
    },
    "language_info": {
      "name": "python"
    }
  },
  "cells": [
    {
      "cell_type": "code",
      "source": [
        "import pandas as pd\n",
        "import numpy as np\n",
        "from sklearn.preprocessing import StandardScaler\n",
        "import re\n",
        "\n",
        "# Load raw datasets\n",
        "esg_df = pd.read_csv(\"esg_scores_2021.csv\")\n",
        "financial_df = pd.read_csv(\"filtered_security_data.csv\")\n",
        "price_df = pd.read_csv(\"snp500_stocks_closing_price_daily_data.csv\")\n",
        "\n",
        "# Merge ESG + Financial\n",
        "merged_metadata = pd.merge(esg_df, financial_df, on=\"symbol\", how=\"inner\")\n",
        "merged_all = pd.merge(merged_metadata, price_df, on=\"symbol\", how=\"inner\")\n",
        "\n",
        "# Drop columns with all nulls\n",
        "merged_all.dropna(axis=1, how=\"all\", inplace=True)\n",
        "\n",
        "# Identify price columns (e.g., 01-Mar-21)\n",
        "price_columns = [col for col in merged_all.columns if re.match(r\"\\d{1,2}-[A-Za-z]{3}-\\d{2}\", col)]\n",
        "\n",
        "# Remove text-heavy columns\n",
        "text_columns = [\n",
        "    'symbol', 'esgPerformance', 'peerGroup', 'longBusinessSummary', 'address1', 'address2', 'city', 'state', 'country',\n",
        "    'phone', 'website', 'companyOfficers', 'uuid', 'logo_url', 'messageBoardId', 'market', 'exchange', 'shortName',\n",
        "    'longName', 'exchangeTimezoneName', 'exchangeTimezoneShortName', 'quoteType', 'underlyingSymbol',\n",
        "    'underlyingExchangeSymbol', 'headSymbol', 'category'\n",
        "]\n",
        "\n",
        "candidate_numeric = merged_all.drop(columns=text_columns + price_columns, errors='ignore')\n",
        "numeric_features = candidate_numeric.select_dtypes(include=['int64', 'float64'])\n",
        "\n",
        "# Fill NaNs with column mean, then scale\n",
        "numeric_features = numeric_features.fillna(numeric_features.mean())\n",
        "scaler = StandardScaler()\n",
        "scaled_features = scaler.fit_transform(numeric_features)\n",
        "\n",
        "# Rebuild scaled metadata\n",
        "symbols = merged_all['symbol'].reset_index(drop=True)\n",
        "scaled_metadata = pd.DataFrame(scaled_features, columns=numeric_features.columns)\n",
        "scaled_metadata.insert(0, \"symbol\", symbols)\n",
        "\n",
        "# Prepare price matrix (transposed)\n",
        "price_data = merged_all[price_columns]\n",
        "price_data_t = price_data.T\n",
        "price_data_t.columns = symbols\n",
        "price_data_t.index.name = \"date\"\n",
        "\n",
        "# Drop dates with too many NaNs, then fill forward/backward\n",
        "threshold = int(0.1 * price_data_t.shape[1])\n",
        "price_data_t = price_data_t.dropna(thresh=price_data_t.shape[1] - threshold)\n",
        "price_data_t = price_data_t.ffill().bfill()\n",
        "\n",
        "# Final check\n",
        "assert not price_data_t.isnull().any().any(), \"NaNs remain in price data!\"\n",
        "assert not scaled_metadata.isnull().any().any(), \"NaNs remain in metadata!\"\n",
        "\n",
        "# Save\n",
        "scaled_metadata.to_csv(\"scaled_metadata.csv\", index=False)\n",
        "price_data_t.to_csv(\"price_matrix.csv\")\n",
        "\n",
        "print(\"✅ Cleaned & saved: scaled_metadata.csv, price_matrix.csv\")\n"
      ],
      "metadata": {
        "colab": {
          "base_uri": "https://localhost:8080/"
        },
        "id": "WEP-OcL6xQHd",
        "outputId": "b1525f4f-6f91-45ba-aa1e-5f80d00b391c"
      },
      "execution_count": 26,
      "outputs": [
        {
          "output_type": "stream",
          "name": "stdout",
          "text": [
            "✅ Cleaned & saved: scaled_metadata.csv, price_matrix.csv\n"
          ]
        }
      ]
    },
    {
      "cell_type": "code",
      "source": [
        "import pandas as pd\n",
        "import numpy as np\n",
        "from datetime import timedelta\n",
        "from dateutil.relativedelta import relativedelta\n",
        "from sklearn.preprocessing import StandardScaler\n",
        "from tensorflow.keras.models import Sequential\n",
        "from tensorflow.keras.layers import Dense, Dropout\n",
        "from matplotlib import pyplot as plt\n",
        "\n",
        "import scipy.optimize as sco\n",
        "\n",
        "def sharpe_optimization(expected_returns, cov_matrix):\n",
        "    num_assets = len(expected_returns)\n",
        "\n",
        "    def portfolio_performance(weights):\n",
        "        port_return = np.dot(weights, expected_returns)\n",
        "        port_volatility = np.sqrt(np.dot(weights.T, np.dot(cov_matrix, weights)))\n",
        "        return -port_return / port_volatility  # Negative Sharpe Ratio (we minimize)\n",
        "\n",
        "    constraints = {'type': 'eq', 'fun': lambda x: np.sum(x) - 1}\n",
        "    bounds = tuple((0, 1) for _ in range(num_assets))\n",
        "    initial_weights = np.array([1. / num_assets] * num_assets)\n",
        "\n",
        "    result = sco.minimize(portfolio_performance, initial_weights, method='SLSQP',\n",
        "                          bounds=bounds, constraints=constraints)\n",
        "\n",
        "    return result.x if result.success else initial_weights\n",
        "\n",
        "\n",
        "# Load datasets\n",
        "metadata = pd.read_csv(\"scaled_metadata.csv\")\n",
        "price_df = pd.read_csv(\"price_matrix.csv\", index_col=0)\n",
        "price_df.index = pd.to_datetime(price_df.index, format=\"%d-%b-%y\", errors='coerce')\n",
        "price_df = price_df.sort_index()\n",
        "\n",
        "sp500 = pd.read_csv(\"snp500_INDEX_daily_closing_prices.csv\")\n",
        "sp500[\"date\"] = pd.to_datetime(sp500[\"Date\"])\n",
        "sp500 = sp500.set_index(\"date\").sort_index()\n",
        "sp500_prices = sp500[\"Close Price\"]\n",
        "\n",
        "symbols = list(set(metadata[\"symbol\"]).intersection(price_df.columns))\n",
        "metadata = metadata[metadata[\"symbol\"].isin(symbols)]\n",
        "price_df = price_df[symbols]\n",
        "\n",
        "lookback_days = 90\n",
        "prediction_days = 60\n",
        "start_date = price_df.index[0] + timedelta(days=lookback_days)\n",
        "end_date = price_df.index[-1] - timedelta(days=prediction_days)\n",
        "rebalance_dates = pd.date_range(start=start_date, end=end_date, freq=\"QS\")\n",
        "\n",
        "portfolio_value = 1.0\n",
        "benchmark_value = 1.0\n",
        "cumulative_returns = []\n",
        "benchmark_returns = []\n",
        "dates = []\n",
        "\n",
        "# Utility\n",
        "\n",
        "def get_return(prices, start, end):\n",
        "    return (prices.loc[end] - prices.loc[start]) / prices.loc[start]\n",
        "\n",
        "def safe_price(date):\n",
        "    dates = sp500_prices.index[sp500_prices.index >= date]\n",
        "    return sp500_prices.loc[dates[0]] if not dates.empty else None\n",
        "\n",
        "# Loop\n",
        "for i in range(len(rebalance_dates) - 1):\n",
        "    train_start = rebalance_dates[i] - timedelta(days=lookback_days)\n",
        "    train_end = rebalance_dates[i] - timedelta(days=1)\n",
        "    test_start = rebalance_dates[i]\n",
        "    test_end = rebalance_dates[i + 1] - timedelta(days=1)\n",
        "\n",
        "    try:\n",
        "        past_prices = price_df.loc[train_start:train_end]\n",
        "        future_prices = price_df.loc[test_start:test_end]\n",
        "\n",
        "        past_return = get_return(past_prices, past_prices.index[0], past_prices.index[-1])\n",
        "        future_return = get_return(future_prices, future_prices.index[0], future_prices.index[-1])\n",
        "\n",
        "        train_df = metadata.copy()\n",
        "        train_df[\"past_return\"] = train_df[\"symbol\"].map(past_return)\n",
        "        train_df[\"target_return\"] = train_df[\"symbol\"].map(future_return)\n",
        "        train_df = train_df.dropna(subset=[\"past_return\", \"target_return\"])\n",
        "\n",
        "        if train_df.shape[0] < 30:\n",
        "            print(f\"⚠️ Skipping {test_start.date()} — insufficient data.\")\n",
        "            continue\n",
        "\n",
        "        X_train = train_df.drop(columns=[\"symbol\", \"target_return\"]).values\n",
        "        y_train = train_df[\"target_return\"].values\n",
        "\n",
        "        model = Sequential([\n",
        "            Dense(128, activation='relu', input_shape=(X_train.shape[1],)),\n",
        "            Dropout(0.3),\n",
        "            Dense(64, activation='relu'),\n",
        "            Dropout(0.3),\n",
        "            Dense(1)\n",
        "        ])\n",
        "        model.compile(optimizer='adam', loss='mse')\n",
        "        model.fit(X_train, y_train, epochs=100, verbose=0)\n",
        "\n",
        "        predict_df = metadata.copy()\n",
        "        predict_df[\"past_return\"] = predict_df[\"symbol\"].map(past_return)\n",
        "        predict_df = predict_df.dropna(subset=[\"past_return\"])\n",
        "        X_pred = predict_df.drop(columns=[\"symbol\"]).values\n",
        "        predict_df[\"score\"] = model.predict(X_pred).flatten()\n",
        "\n",
        "        top_stocks = predict_df.sort_values(\"score\", ascending=False).head(20)\n",
        "        top_symbols = top_stocks[\"symbol\"].values\n",
        "\n",
        "        future_window = future_prices[top_symbols]\n",
        "        top_returns = future_window.pct_change().dropna()\n",
        "        cov_matrix = top_returns.cov()\n",
        "        expected_returns = past_return[top_symbols].values\n",
        "\n",
        "        weights = sharpe_optimization(expected_returns, cov_matrix)\n",
        "        mean_returns = top_returns.mean()\n",
        "        vol = top_returns.std()\n",
        "        sharpe_scores = mean_returns / vol\n",
        "        weights = sharpe_scores / sharpe_scores.sum()\n",
        "\n",
        "        daily_returns = top_returns @ weights.values\n",
        "        cumulative = (1 + daily_returns).cumprod() * portfolio_value\n",
        "        portfolio_value = cumulative[-1]\n",
        "\n",
        "        sp_start, sp_end = safe_price(test_start), safe_price(test_end)\n",
        "        if sp_start is None or sp_end is None:\n",
        "            print(f\"⚠️ Missing S&P 500 data from {test_start.date()} to {test_end.date()}, skipping.\")\n",
        "            continue\n",
        "\n",
        "        sp_return = (sp_end - sp_start) / sp_start\n",
        "        benchmark_value *= (1 + sp_return)\n",
        "\n",
        "        cumulative_returns.append(portfolio_value)\n",
        "        benchmark_returns.append(benchmark_value)\n",
        "        dates.append(test_end.date())\n",
        "\n",
        "        print(f\"✅ {test_start.date()} → {test_end.date()} | Portfolio: {cumulative[-1]:.2f} | S&P 500: {benchmark_value:.2f}\")\n",
        "\n",
        "    except Exception as e:\n",
        "        print(f\"❌ Error from {test_start.date()}: {e}\")\n",
        "        continue\n",
        "\n",
        "# Plotting\n",
        "plt.figure(figsize=(10, 6))\n",
        "plt.plot(dates, cumulative_returns, label=\"📈 NN Portfolio\")\n",
        "plt.plot(dates, benchmark_returns, label=\"🏛️ S&P 500 Index\")\n",
        "plt.xlabel(\"Date\")\n",
        "plt.ylabel(\"Cumulative Return\")\n",
        "plt.title(\"Neural Network Portfolio vs S&P 500\")\n",
        "plt.grid(True)\n",
        "plt.legend()\n",
        "plt.tight_layout()\n",
        "plt.show()\n",
        "\n",
        "# CAGR\n",
        "if dates:\n",
        "    def cagr(start, end, years): return (end / start) ** (1 / years) - 1\n",
        "    years = (dates[-1] - dates[0]).days / 365.25\n",
        "    port_cagr = cagr(cumulative_returns[0], cumulative_returns[-1], years)\n",
        "    bench_cagr = cagr(cumulative_returns[0], benchmark_returns[-1], years)\n",
        "    print(f\"\\n📈 Portfolio CAGR: {port_cagr:.2%}\")\n",
        "    print(f\"🏛️ S&P 500 Index CAGR: {bench_cagr:.2%}\")\n"
      ],
      "metadata": {
        "colab": {
          "base_uri": "https://localhost:8080/",
          "height": 1000
        },
        "id": "O1184ks5DuZs",
        "outputId": "4ed4f4a6-c678-4fff-9c02-be127c548366"
      },
      "execution_count": 24,
      "outputs": [
        {
          "output_type": "stream",
          "name": "stderr",
          "text": [
            "<ipython-input-24-903dd034a74b>:37: UserWarning: Could not infer format, so each element will be parsed individually, falling back to `dateutil`. To ensure parsing is consistent and as-expected, please specify a format.\n",
            "  sp500[\"date\"] = pd.to_datetime(sp500[\"Date\"])\n",
            "/usr/local/lib/python3.11/dist-packages/keras/src/layers/core/dense.py:87: UserWarning: Do not pass an `input_shape`/`input_dim` argument to a layer. When using Sequential models, prefer using an `Input(shape)` object as the first layer in the model instead.\n",
            "  super().__init__(activity_regularizer=activity_regularizer, **kwargs)\n"
          ]
        },
        {
          "output_type": "stream",
          "name": "stdout",
          "text": [
            "\u001b[1m14/14\u001b[0m \u001b[32m━━━━━━━━━━━━━━━━━━━━\u001b[0m\u001b[37m\u001b[0m \u001b[1m0s\u001b[0m 7ms/step\n",
            "✅ 2021-07-01 → 2021-09-30 | Portfolio: 1.22 | S&P 500: 1.00\n"
          ]
        },
        {
          "output_type": "stream",
          "name": "stderr",
          "text": [
            "<ipython-input-24-903dd034a74b>:124: FutureWarning: Series.__getitem__ treating keys as positions is deprecated. In a future version, integer keys will always be treated as labels (consistent with DataFrame behavior). To access a value by position, use `ser.iloc[pos]`\n",
            "  portfolio_value = cumulative[-1]\n",
            "<ipython-input-24-903dd034a74b>:138: FutureWarning: Series.__getitem__ treating keys as positions is deprecated. In a future version, integer keys will always be treated as labels (consistent with DataFrame behavior). To access a value by position, use `ser.iloc[pos]`\n",
            "  print(f\"✅ {test_start.date()} → {test_end.date()} | Portfolio: {cumulative[-1]:.2f} | S&P 500: {benchmark_value:.2f}\")\n",
            "/usr/local/lib/python3.11/dist-packages/keras/src/layers/core/dense.py:87: UserWarning: Do not pass an `input_shape`/`input_dim` argument to a layer. When using Sequential models, prefer using an `Input(shape)` object as the first layer in the model instead.\n",
            "  super().__init__(activity_regularizer=activity_regularizer, **kwargs)\n"
          ]
        },
        {
          "output_type": "stream",
          "name": "stdout",
          "text": [
            "\u001b[1m14/14\u001b[0m \u001b[32m━━━━━━━━━━━━━━━━━━━━\u001b[0m\u001b[37m\u001b[0m \u001b[1m0s\u001b[0m 5ms/step \n",
            "✅ 2021-10-01 → 2021-12-31 | Portfolio: 1.61 | S&P 500: 1.09\n"
          ]
        },
        {
          "output_type": "stream",
          "name": "stderr",
          "text": [
            "<ipython-input-24-903dd034a74b>:124: FutureWarning: Series.__getitem__ treating keys as positions is deprecated. In a future version, integer keys will always be treated as labels (consistent with DataFrame behavior). To access a value by position, use `ser.iloc[pos]`\n",
            "  portfolio_value = cumulative[-1]\n",
            "<ipython-input-24-903dd034a74b>:138: FutureWarning: Series.__getitem__ treating keys as positions is deprecated. In a future version, integer keys will always be treated as labels (consistent with DataFrame behavior). To access a value by position, use `ser.iloc[pos]`\n",
            "  print(f\"✅ {test_start.date()} → {test_end.date()} | Portfolio: {cumulative[-1]:.2f} | S&P 500: {benchmark_value:.2f}\")\n",
            "/usr/local/lib/python3.11/dist-packages/keras/src/layers/core/dense.py:87: UserWarning: Do not pass an `input_shape`/`input_dim` argument to a layer. When using Sequential models, prefer using an `Input(shape)` object as the first layer in the model instead.\n",
            "  super().__init__(activity_regularizer=activity_regularizer, **kwargs)\n"
          ]
        },
        {
          "output_type": "stream",
          "name": "stdout",
          "text": [
            "\u001b[1m14/14\u001b[0m \u001b[32m━━━━━━━━━━━━━━━━━━━━\u001b[0m\u001b[37m\u001b[0m \u001b[1m0s\u001b[0m 5ms/step \n",
            "✅ 2022-01-01 → 2022-03-31 | Portfolio: 2.25 | S&P 500: 1.03\n"
          ]
        },
        {
          "output_type": "stream",
          "name": "stderr",
          "text": [
            "<ipython-input-24-903dd034a74b>:124: FutureWarning: Series.__getitem__ treating keys as positions is deprecated. In a future version, integer keys will always be treated as labels (consistent with DataFrame behavior). To access a value by position, use `ser.iloc[pos]`\n",
            "  portfolio_value = cumulative[-1]\n",
            "<ipython-input-24-903dd034a74b>:138: FutureWarning: Series.__getitem__ treating keys as positions is deprecated. In a future version, integer keys will always be treated as labels (consistent with DataFrame behavior). To access a value by position, use `ser.iloc[pos]`\n",
            "  print(f\"✅ {test_start.date()} → {test_end.date()} | Portfolio: {cumulative[-1]:.2f} | S&P 500: {benchmark_value:.2f}\")\n",
            "/usr/local/lib/python3.11/dist-packages/keras/src/layers/core/dense.py:87: UserWarning: Do not pass an `input_shape`/`input_dim` argument to a layer. When using Sequential models, prefer using an `Input(shape)` object as the first layer in the model instead.\n",
            "  super().__init__(activity_regularizer=activity_regularizer, **kwargs)\n"
          ]
        },
        {
          "output_type": "stream",
          "name": "stdout",
          "text": [
            "\u001b[1m14/14\u001b[0m \u001b[32m━━━━━━━━━━━━━━━━━━━━\u001b[0m\u001b[37m\u001b[0m \u001b[1m0s\u001b[0m 5ms/step \n",
            "✅ 2022-04-01 → 2022-06-30 | Portfolio: 3.84 | S&P 500: 0.86\n"
          ]
        },
        {
          "output_type": "stream",
          "name": "stderr",
          "text": [
            "<ipython-input-24-903dd034a74b>:124: FutureWarning: Series.__getitem__ treating keys as positions is deprecated. In a future version, integer keys will always be treated as labels (consistent with DataFrame behavior). To access a value by position, use `ser.iloc[pos]`\n",
            "  portfolio_value = cumulative[-1]\n",
            "<ipython-input-24-903dd034a74b>:138: FutureWarning: Series.__getitem__ treating keys as positions is deprecated. In a future version, integer keys will always be treated as labels (consistent with DataFrame behavior). To access a value by position, use `ser.iloc[pos]`\n",
            "  print(f\"✅ {test_start.date()} → {test_end.date()} | Portfolio: {cumulative[-1]:.2f} | S&P 500: {benchmark_value:.2f}\")\n",
            "/usr/local/lib/python3.11/dist-packages/keras/src/layers/core/dense.py:87: UserWarning: Do not pass an `input_shape`/`input_dim` argument to a layer. When using Sequential models, prefer using an `Input(shape)` object as the first layer in the model instead.\n",
            "  super().__init__(activity_regularizer=activity_regularizer, **kwargs)\n"
          ]
        },
        {
          "output_type": "stream",
          "name": "stdout",
          "text": [
            "\u001b[1m14/14\u001b[0m \u001b[32m━━━━━━━━━━━━━━━━━━━━\u001b[0m\u001b[37m\u001b[0m \u001b[1m0s\u001b[0m 5ms/step \n",
            "✅ 2022-07-01 → 2022-09-30 | Portfolio: 4.70 | S&P 500: 0.80\n"
          ]
        },
        {
          "output_type": "stream",
          "name": "stderr",
          "text": [
            "<ipython-input-24-903dd034a74b>:124: FutureWarning: Series.__getitem__ treating keys as positions is deprecated. In a future version, integer keys will always be treated as labels (consistent with DataFrame behavior). To access a value by position, use `ser.iloc[pos]`\n",
            "  portfolio_value = cumulative[-1]\n",
            "<ipython-input-24-903dd034a74b>:138: FutureWarning: Series.__getitem__ treating keys as positions is deprecated. In a future version, integer keys will always be treated as labels (consistent with DataFrame behavior). To access a value by position, use `ser.iloc[pos]`\n",
            "  print(f\"✅ {test_start.date()} → {test_end.date()} | Portfolio: {cumulative[-1]:.2f} | S&P 500: {benchmark_value:.2f}\")\n",
            "/usr/local/lib/python3.11/dist-packages/keras/src/layers/core/dense.py:87: UserWarning: Do not pass an `input_shape`/`input_dim` argument to a layer. When using Sequential models, prefer using an `Input(shape)` object as the first layer in the model instead.\n",
            "  super().__init__(activity_regularizer=activity_regularizer, **kwargs)\n"
          ]
        },
        {
          "output_type": "stream",
          "name": "stdout",
          "text": [
            "\u001b[1m14/14\u001b[0m \u001b[32m━━━━━━━━━━━━━━━━━━━━\u001b[0m\u001b[37m\u001b[0m \u001b[1m0s\u001b[0m 7ms/step\n"
          ]
        },
        {
          "output_type": "stream",
          "name": "stderr",
          "text": [
            "<ipython-input-24-903dd034a74b>:124: FutureWarning: Series.__getitem__ treating keys as positions is deprecated. In a future version, integer keys will always be treated as labels (consistent with DataFrame behavior). To access a value by position, use `ser.iloc[pos]`\n",
            "  portfolio_value = cumulative[-1]\n",
            "<ipython-input-24-903dd034a74b>:138: FutureWarning: Series.__getitem__ treating keys as positions is deprecated. In a future version, integer keys will always be treated as labels (consistent with DataFrame behavior). To access a value by position, use `ser.iloc[pos]`\n",
            "  print(f\"✅ {test_start.date()} → {test_end.date()} | Portfolio: {cumulative[-1]:.2f} | S&P 500: {benchmark_value:.2f}\")\n",
            "/usr/local/lib/python3.11/dist-packages/keras/src/layers/core/dense.py:87: UserWarning: Do not pass an `input_shape`/`input_dim` argument to a layer. When using Sequential models, prefer using an `Input(shape)` object as the first layer in the model instead.\n",
            "  super().__init__(activity_regularizer=activity_regularizer, **kwargs)\n"
          ]
        },
        {
          "output_type": "stream",
          "name": "stdout",
          "text": [
            "✅ 2022-10-01 → 2022-12-31 | Portfolio: 6.50 | S&P 500: 0.84\n",
            "\u001b[1m14/14\u001b[0m \u001b[32m━━━━━━━━━━━━━━━━━━━━\u001b[0m\u001b[37m\u001b[0m \u001b[1m0s\u001b[0m 7ms/step\n",
            "✅ 2023-01-01 → 2023-03-31 | Portfolio: 9.15 | S&P 500: 0.90\n"
          ]
        },
        {
          "output_type": "stream",
          "name": "stderr",
          "text": [
            "<ipython-input-24-903dd034a74b>:124: FutureWarning: Series.__getitem__ treating keys as positions is deprecated. In a future version, integer keys will always be treated as labels (consistent with DataFrame behavior). To access a value by position, use `ser.iloc[pos]`\n",
            "  portfolio_value = cumulative[-1]\n",
            "<ipython-input-24-903dd034a74b>:138: FutureWarning: Series.__getitem__ treating keys as positions is deprecated. In a future version, integer keys will always be treated as labels (consistent with DataFrame behavior). To access a value by position, use `ser.iloc[pos]`\n",
            "  print(f\"✅ {test_start.date()} → {test_end.date()} | Portfolio: {cumulative[-1]:.2f} | S&P 500: {benchmark_value:.2f}\")\n",
            "/usr/local/lib/python3.11/dist-packages/keras/src/layers/core/dense.py:87: UserWarning: Do not pass an `input_shape`/`input_dim` argument to a layer. When using Sequential models, prefer using an `Input(shape)` object as the first layer in the model instead.\n",
            "  super().__init__(activity_regularizer=activity_regularizer, **kwargs)\n"
          ]
        },
        {
          "output_type": "stream",
          "name": "stdout",
          "text": [
            "\u001b[1m14/14\u001b[0m \u001b[32m━━━━━━━━━━━━━━━━━━━━\u001b[0m\u001b[37m\u001b[0m \u001b[1m0s\u001b[0m 7ms/step\n"
          ]
        },
        {
          "output_type": "stream",
          "name": "stderr",
          "text": [
            "<ipython-input-24-903dd034a74b>:124: FutureWarning: Series.__getitem__ treating keys as positions is deprecated. In a future version, integer keys will always be treated as labels (consistent with DataFrame behavior). To access a value by position, use `ser.iloc[pos]`\n",
            "  portfolio_value = cumulative[-1]\n",
            "<ipython-input-24-903dd034a74b>:138: FutureWarning: Series.__getitem__ treating keys as positions is deprecated. In a future version, integer keys will always be treated as labels (consistent with DataFrame behavior). To access a value by position, use `ser.iloc[pos]`\n",
            "  print(f\"✅ {test_start.date()} → {test_end.date()} | Portfolio: {cumulative[-1]:.2f} | S&P 500: {benchmark_value:.2f}\")\n",
            "/usr/local/lib/python3.11/dist-packages/keras/src/layers/core/dense.py:87: UserWarning: Do not pass an `input_shape`/`input_dim` argument to a layer. When using Sequential models, prefer using an `Input(shape)` object as the first layer in the model instead.\n",
            "  super().__init__(activity_regularizer=activity_regularizer, **kwargs)\n"
          ]
        },
        {
          "output_type": "stream",
          "name": "stdout",
          "text": [
            "✅ 2023-04-01 → 2023-06-30 | Portfolio: 12.71 | S&P 500: 0.97\n",
            "\u001b[1m14/14\u001b[0m \u001b[32m━━━━━━━━━━━━━━━━━━━━\u001b[0m\u001b[37m\u001b[0m \u001b[1m0s\u001b[0m 7ms/step\n"
          ]
        },
        {
          "output_type": "stream",
          "name": "stderr",
          "text": [
            "<ipython-input-24-903dd034a74b>:124: FutureWarning: Series.__getitem__ treating keys as positions is deprecated. In a future version, integer keys will always be treated as labels (consistent with DataFrame behavior). To access a value by position, use `ser.iloc[pos]`\n",
            "  portfolio_value = cumulative[-1]\n",
            "<ipython-input-24-903dd034a74b>:138: FutureWarning: Series.__getitem__ treating keys as positions is deprecated. In a future version, integer keys will always be treated as labels (consistent with DataFrame behavior). To access a value by position, use `ser.iloc[pos]`\n",
            "  print(f\"✅ {test_start.date()} → {test_end.date()} | Portfolio: {cumulative[-1]:.2f} | S&P 500: {benchmark_value:.2f}\")\n",
            "/usr/local/lib/python3.11/dist-packages/keras/src/layers/core/dense.py:87: UserWarning: Do not pass an `input_shape`/`input_dim` argument to a layer. When using Sequential models, prefer using an `Input(shape)` object as the first layer in the model instead.\n",
            "  super().__init__(activity_regularizer=activity_regularizer, **kwargs)\n"
          ]
        },
        {
          "output_type": "stream",
          "name": "stdout",
          "text": [
            "✅ 2023-07-01 → 2023-09-30 | Portfolio: 15.22 | S&P 500: 0.93\n",
            "\u001b[1m14/14\u001b[0m \u001b[32m━━━━━━━━━━━━━━━━━━━━\u001b[0m\u001b[37m\u001b[0m \u001b[1m0s\u001b[0m 8ms/step\n",
            "✅ 2023-10-01 → 2023-12-31 | Portfolio: 21.16 | S&P 500: 1.03\n"
          ]
        },
        {
          "output_type": "stream",
          "name": "stderr",
          "text": [
            "<ipython-input-24-903dd034a74b>:124: FutureWarning: Series.__getitem__ treating keys as positions is deprecated. In a future version, integer keys will always be treated as labels (consistent with DataFrame behavior). To access a value by position, use `ser.iloc[pos]`\n",
            "  portfolio_value = cumulative[-1]\n",
            "<ipython-input-24-903dd034a74b>:138: FutureWarning: Series.__getitem__ treating keys as positions is deprecated. In a future version, integer keys will always be treated as labels (consistent with DataFrame behavior). To access a value by position, use `ser.iloc[pos]`\n",
            "  print(f\"✅ {test_start.date()} → {test_end.date()} | Portfolio: {cumulative[-1]:.2f} | S&P 500: {benchmark_value:.2f}\")\n",
            "/usr/local/lib/python3.11/dist-packages/keras/src/layers/core/dense.py:87: UserWarning: Do not pass an `input_shape`/`input_dim` argument to a layer. When using Sequential models, prefer using an `Input(shape)` object as the first layer in the model instead.\n",
            "  super().__init__(activity_regularizer=activity_regularizer, **kwargs)\n"
          ]
        },
        {
          "output_type": "stream",
          "name": "stdout",
          "text": [
            "\u001b[1m14/14\u001b[0m \u001b[32m━━━━━━━━━━━━━━━━━━━━\u001b[0m\u001b[37m\u001b[0m \u001b[1m0s\u001b[0m 7ms/step\n"
          ]
        },
        {
          "output_type": "stream",
          "name": "stderr",
          "text": [
            "<ipython-input-24-903dd034a74b>:124: FutureWarning: Series.__getitem__ treating keys as positions is deprecated. In a future version, integer keys will always be treated as labels (consistent with DataFrame behavior). To access a value by position, use `ser.iloc[pos]`\n",
            "  portfolio_value = cumulative[-1]\n",
            "<ipython-input-24-903dd034a74b>:138: FutureWarning: Series.__getitem__ treating keys as positions is deprecated. In a future version, integer keys will always be treated as labels (consistent with DataFrame behavior). To access a value by position, use `ser.iloc[pos]`\n",
            "  print(f\"✅ {test_start.date()} → {test_end.date()} | Portfolio: {cumulative[-1]:.2f} | S&P 500: {benchmark_value:.2f}\")\n",
            "/usr/local/lib/python3.11/dist-packages/keras/src/layers/core/dense.py:87: UserWarning: Do not pass an `input_shape`/`input_dim` argument to a layer. When using Sequential models, prefer using an `Input(shape)` object as the first layer in the model instead.\n",
            "  super().__init__(activity_regularizer=activity_regularizer, **kwargs)\n"
          ]
        },
        {
          "output_type": "stream",
          "name": "stdout",
          "text": [
            "✅ 2024-01-01 → 2024-03-31 | Portfolio: 27.94 | S&P 500: 1.14\n",
            "\u001b[1m14/14\u001b[0m \u001b[32m━━━━━━━━━━━━━━━━━━━━\u001b[0m\u001b[37m\u001b[0m \u001b[1m0s\u001b[0m 7ms/step\n"
          ]
        },
        {
          "output_type": "stream",
          "name": "stderr",
          "text": [
            "<ipython-input-24-903dd034a74b>:124: FutureWarning: Series.__getitem__ treating keys as positions is deprecated. In a future version, integer keys will always be treated as labels (consistent with DataFrame behavior). To access a value by position, use `ser.iloc[pos]`\n",
            "  portfolio_value = cumulative[-1]\n",
            "<ipython-input-24-903dd034a74b>:138: FutureWarning: Series.__getitem__ treating keys as positions is deprecated. In a future version, integer keys will always be treated as labels (consistent with DataFrame behavior). To access a value by position, use `ser.iloc[pos]`\n",
            "  print(f\"✅ {test_start.date()} → {test_end.date()} | Portfolio: {cumulative[-1]:.2f} | S&P 500: {benchmark_value:.2f}\")\n",
            "/usr/local/lib/python3.11/dist-packages/keras/src/layers/core/dense.py:87: UserWarning: Do not pass an `input_shape`/`input_dim` argument to a layer. When using Sequential models, prefer using an `Input(shape)` object as the first layer in the model instead.\n",
            "  super().__init__(activity_regularizer=activity_regularizer, **kwargs)\n"
          ]
        },
        {
          "output_type": "stream",
          "name": "stdout",
          "text": [
            "✅ 2024-04-01 → 2024-06-30 | Portfolio: 32.75 | S&P 500: 1.19\n",
            "\u001b[1m14/14\u001b[0m \u001b[32m━━━━━━━━━━━━━━━━━━━━\u001b[0m\u001b[37m\u001b[0m \u001b[1m0s\u001b[0m 8ms/step\n",
            "✅ 2024-07-01 → 2024-09-30 | Portfolio: 48.67 | S&P 500: 1.25\n"
          ]
        },
        {
          "output_type": "stream",
          "name": "stderr",
          "text": [
            "<ipython-input-24-903dd034a74b>:124: FutureWarning: Series.__getitem__ treating keys as positions is deprecated. In a future version, integer keys will always be treated as labels (consistent with DataFrame behavior). To access a value by position, use `ser.iloc[pos]`\n",
            "  portfolio_value = cumulative[-1]\n",
            "<ipython-input-24-903dd034a74b>:138: FutureWarning: Series.__getitem__ treating keys as positions is deprecated. In a future version, integer keys will always be treated as labels (consistent with DataFrame behavior). To access a value by position, use `ser.iloc[pos]`\n",
            "  print(f\"✅ {test_start.date()} → {test_end.date()} | Portfolio: {cumulative[-1]:.2f} | S&P 500: {benchmark_value:.2f}\")\n",
            "<ipython-input-24-903dd034a74b>:153: UserWarning: Glyph 128200 (\\N{CHART WITH UPWARDS TREND}) missing from font(s) DejaVu Sans.\n",
            "  plt.tight_layout()\n",
            "<ipython-input-24-903dd034a74b>:153: UserWarning: Glyph 127963 (\\N{CLASSICAL BUILDING}) missing from font(s) DejaVu Sans.\n",
            "  plt.tight_layout()\n",
            "/usr/local/lib/python3.11/dist-packages/IPython/core/pylabtools.py:151: UserWarning: Glyph 128200 (\\N{CHART WITH UPWARDS TREND}) missing from font(s) DejaVu Sans.\n",
            "  fig.canvas.print_figure(bytes_io, **kw)\n",
            "/usr/local/lib/python3.11/dist-packages/IPython/core/pylabtools.py:151: UserWarning: Glyph 127963 (\\N{CLASSICAL BUILDING}) missing from font(s) DejaVu Sans.\n",
            "  fig.canvas.print_figure(bytes_io, **kw)\n"
          ]
        },
        {
          "output_type": "display_data",
          "data": {
            "text/plain": [
              "<Figure size 1000x600 with 1 Axes>"
            ],
            "image/png": "[encoded data removed]"
          },
          "metadata": {}
        },
        {
          "output_type": "stream",
          "name": "stdout",
          "text": [
            "\n",
            "📈 Portfolio CAGR: 241.33%\n",
            "🏛️ S&P 500 Index CAGR: 0.83%\n"
          ]
        }
      ]
    },
    {
      "cell_type": "code",
      "source": [
        "###This is the most updated //26 april\n",
        "\n",
        "\n",
        "import pandas as pd\n",
        "import numpy as np\n",
        "import lightgbm as lgb\n",
        "import matplotlib.pyplot as plt\n",
        "from sklearn.preprocessing import KBinsDiscretizer\n",
        "from datetime import timedelta\n",
        "from dateutil.relativedelta import relativedelta\n",
        "from scipy.optimize import minimize\n",
        "\n",
        "# Load datasets\n",
        "metadata = pd.read_csv(\"scaled_metadata.csv\")\n",
        "price_df = pd.read_csv(\"price_matrix.csv\", index_col=0)\n",
        "price_df.index = pd.to_datetime(price_df.index, format=\"%d-%b-%y\", errors='coerce')\n",
        "price_df = price_df.sort_index()\n",
        "\n",
        "sp500 = pd.read_csv(\"snp500_INDEX_daily_closing_prices.csv\")\n",
        "sp500[\"date\"] = pd.to_datetime(sp500[\"Date\"])\n",
        "sp500 = sp500.set_index(\"date\").sort_index()\n",
        "sp500_prices = sp500[\"Close Price\"]\n",
        "\n",
        "# Get intersection of symbols\n",
        "symbols = list(set(metadata[\"symbol\"]).intersection(price_df.columns))\n",
        "metadata = metadata[metadata[\"symbol\"].isin(symbols)]\n",
        "price_df = price_df[symbols]\n",
        "\n",
        "# Parameters\n",
        "lookback_days = 90\n",
        "prediction_days = 60\n",
        "start_date = price_df.index[0] + timedelta(days=lookback_days)\n",
        "end_date = price_df.index[-1] - timedelta(days=prediction_days)\n",
        "rebalance_dates = pd.date_range(start=start_date, end=end_date, freq=\"QS\")\n",
        "\n",
        "# Tracking results\n",
        "portfolio_value = 1.0\n",
        "benchmark_value = 1.0\n",
        "cumulative_returns = []\n",
        "benchmark_returns = []\n",
        "dates = []\n",
        "\n",
        "# Define utility functions\n",
        "def get_return_matrix(prices, start, end):\n",
        "    return (prices.loc[end] - prices.loc[start]) / prices.loc[start]\n",
        "\n",
        "def sharpe_optimization(expected_returns, cov_matrix):\n",
        "    def neg_sharpe(w):\n",
        "        ret = np.dot(w, expected_returns)\n",
        "        vol = np.sqrt(np.dot(w.T, np.dot(cov_matrix, w)))\n",
        "        return -ret / vol if vol != 0 else 0\n",
        "    x0 = np.repeat(1/len(expected_returns), len(expected_returns))\n",
        "    bounds = [(0, 1)] * len(expected_returns)\n",
        "    constraints = {'type': 'eq', 'fun': lambda w: np.sum(w) - 1}\n",
        "    result = minimize(neg_sharpe, x0, bounds=bounds, constraints=constraints)\n",
        "    return result.x\n",
        "\n",
        "# Backtest loop\n",
        "for i in range(len(rebalance_dates) - 1):\n",
        "    train_start = rebalance_dates[i] - timedelta(days=lookback_days)\n",
        "    train_end = rebalance_dates[i] - timedelta(days=1)\n",
        "    test_start = rebalance_dates[i]\n",
        "    test_end = rebalance_dates[i + 1] - timedelta(days=1)\n",
        "\n",
        "    try:\n",
        "        past_prices = price_df.loc[train_start:train_end]\n",
        "        future_prices = price_df.loc[test_start:test_end]\n",
        "\n",
        "        # Returns\n",
        "        past_ret = get_return_matrix(past_prices, past_prices.index[0], past_prices.index[-1])\n",
        "        future_ret = get_return_matrix(future_prices, future_prices.index[0], future_prices.index[-1])\n",
        "\n",
        "        train_df = metadata.copy()\n",
        "        train_df[\"past_return\"] = train_df[\"symbol\"].map(past_ret)\n",
        "        train_df[\"target_return\"] = train_df[\"symbol\"].map(future_ret)\n",
        "        train_df = train_df.dropna(subset=[\"past_return\", \"target_return\"])\n",
        "\n",
        "        if train_df.shape[0] < 30:\n",
        "            print(f\"⚠️ Skipping {test_start.date()} — insufficient data.\")\n",
        "            continue\n",
        "\n",
        "        # Training\n",
        "        X_train = train_df.drop(columns=[\"symbol\", \"target_return\"]).values\n",
        "        y_train = train_df[\"target_return\"].values\n",
        "\n",
        "        model = Sequential([\n",
        "            Dense(128, activation='relu', input_shape=(X_train.shape[1],)),\n",
        "            Dropout(0.3),\n",
        "            Dense(64, activation='relu'),\n",
        "            Dropout(0.3),\n",
        "            Dense(1)\n",
        "        ])\n",
        "        model.compile(optimizer='adam', loss='mse')\n",
        "        model.fit(X_train, y_train, epochs=100, verbose=0)\n",
        "\n",
        "        # Prediction: use same metadata + past return, but not target return!\n",
        "        predict_df = metadata.copy()\n",
        "        predict_df[\"past_return\"] = predict_df[\"symbol\"].map(past_ret)\n",
        "        predict_df = predict_df.dropna(subset=[\"past_return\"])\n",
        "        X_pred = predict_df.drop(columns=[\"symbol\"])\n",
        "\n",
        "        scores = model.predict(X_pred.values)\n",
        "        predict_df[\"score\"] = scores\n",
        "        top_stocks = predict_df.sort_values(\"score\", ascending=False).head(20)\n",
        "        top_symbols = top_stocks[\"symbol\"].values\n",
        "\n",
        "        print(f\"Iteration loop {i}\")\n",
        "        print(predict_df.shape)\n",
        "        print(predict_df[['score','symbol']])\n",
        "\n",
        "        # Portfolio weights (Sharpe optimization)\n",
        "        future_price_window = future_prices[top_symbols]\n",
        "        top_returns = future_price_window.pct_change().dropna()\n",
        "        cov_matrix = top_returns.cov()\n",
        "        # expected_returns = future_ret[top_symbols].values\n",
        "        expected_returns = past_ret[top_symbols].values\n",
        "        weights = sharpe_optimization(expected_returns, cov_matrix)\n",
        "\n",
        "        port_return = np.dot(weights, expected_returns)\n",
        "        transaction_cost = 0.01  # 0.1%\n",
        "        portfolio_value *= (1 + port_return)\n",
        "\n",
        "\n",
        "        # Benchmark return\n",
        "        def safe_price(date):\n",
        "            dates = sp500_prices.index[sp500_prices.index >= date]\n",
        "            return sp500_prices.loc[dates[0]] if not dates.empty else None\n",
        "\n",
        "        sp_start, sp_end = safe_price(test_start), safe_price(test_end)\n",
        "        if sp_start is None or sp_end is None:\n",
        "            print(f\"⚠️ Missing S&P 500 data from {test_start.date()} to {test_end.date()}, skipping.\")\n",
        "            continue\n",
        "\n",
        "        sp_return = (sp_end - sp_start) / sp_start\n",
        "        benchmark_value *= (1 + sp_return)\n",
        "\n",
        "        cumulative_returns.append(portfolio_value)\n",
        "        benchmark_returns.append(benchmark_value)\n",
        "        dates.append(test_end.date())\n",
        "\n",
        "        print(f\"✅ {test_start.date()} → {test_end.date()} | Portfolio: {port_return:.2%} | S&P 500: {sp_return:.2%}\")\n",
        "\n",
        "    except Exception as e:\n",
        "        print(f\"❌ Error from {test_start.date()}: {e}\")\n",
        "        continue\n",
        "\n",
        "# Plotting\n",
        "plt.figure(figsize=(10, 6))\n",
        "plt.plot(dates, cumulative_returns, label=\"📈 Optimized Portfolio\")\n",
        "plt.plot(dates, benchmark_returns, label=\"🏛️ S&P 500 Index\")\n",
        "plt.xlabel(\"Date\")\n",
        "plt.ylabel(\"Cumulative Return\")\n",
        "plt.title(\"NN Portfolio vs S&P 500 \")s\n",
        "plt.grid(True)\n",
        "plt.legend()\n",
        "plt.tight_layout()\n",
        "plt.show()\n",
        "\n",
        "# CAGR Calculation\n",
        "def cagr(start, end, years): return (end / start) ** (1 / years) - 1\n",
        "if dates:\n",
        "    years = (dates[-1] - dates[0]).days / 365.25\n",
        "    port_cagr = cagr(cumulative_returns[0], cumulative_returns[-1], years)\n",
        "    bench_cagr = cagr(benchmark_returns[0], benchmark_returns[-1], years)\n",
        "    print(f\"\\n📈 Portfolio CAGR: {port_cagr:.2%}\")\n",
        "    print(f\"🏛️ S&P 500 Index CAGR: {bench_cagr:.2%}\")\n"
      ],
      "metadata": {
        "colab": {
          "base_uri": "https://localhost:8080/",
          "height": 1000
        },
        "id": "pwX9lg9Cirgb",
        "outputId": "82e914e4-c641-4721-f4a0-7d95e2d8967c"
      },
      "execution_count": 30,
      "outputs": [
        {
          "output_type": "stream",
          "name": "stderr",
          "text": [
            "<ipython-input-30-7877bb1446bc>:20: UserWarning: Could not infer format, so each element will be parsed individually, falling back to `dateutil`. To ensure parsing is consistent and as-expected, please specify a format.\n",
            "  sp500[\"date\"] = pd.to_datetime(sp500[\"Date\"])\n",
            "/usr/local/lib/python3.11/dist-packages/keras/src/layers/core/dense.py:87: UserWarning: Do not pass an `input_shape`/`input_dim` argument to a layer. When using Sequential models, prefer using an `Input(shape)` object as the first layer in the model instead.\n",
            "  super().__init__(activity_regularizer=activity_regularizer, **kwargs)\n"
          ]
        },
        {
          "output_type": "stream",
          "name": "stdout",
          "text": [
            "\u001b[1m14/14\u001b[0m \u001b[32m━━━━━━━━━━━━━━━━━━━━\u001b[0m\u001b[37m\u001b[0m \u001b[1m0s\u001b[0m 5ms/step \n",
            "Iteration loop 0\n",
            "(420, 73)\n",
            "        score symbol\n",
            "0   -0.030878    MMM\n",
            "1   -0.017686    AOS\n",
            "2   -0.009366    ABT\n",
            "3   -0.030218   ABBV\n",
            "4   -0.023870    ACN\n",
            "..        ...    ...\n",
            "415 -0.004175    XEL\n",
            "416 -0.013535    XYL\n",
            "417 -0.009415    YUM\n",
            "418 -0.025390    ZBH\n",
            "419 -0.003281    ZTS\n",
            "\n",
            "[420 rows x 2 columns]\n",
            "✅ 2021-07-01 → 2021-09-30 | Portfolio: 20.33% | S&P 500: -0.29%\n"
          ]
        },
        {
          "output_type": "stream",
          "name": "stderr",
          "text": [
            "/usr/local/lib/python3.11/dist-packages/keras/src/layers/core/dense.py:87: UserWarning: Do not pass an `input_shape`/`input_dim` argument to a layer. When using Sequential models, prefer using an `Input(shape)` object as the first layer in the model instead.\n",
            "  super().__init__(activity_regularizer=activity_regularizer, **kwargs)\n"
          ]
        },
        {
          "output_type": "stream",
          "name": "stdout",
          "text": [
            "\u001b[1m14/14\u001b[0m \u001b[32m━━━━━━━━━━━━━━━━━━━━\u001b[0m\u001b[37m\u001b[0m \u001b[1m0s\u001b[0m 5ms/step \n",
            "Iteration loop 1\n",
            "(420, 73)\n",
            "        score symbol\n",
            "0    0.053652    MMM\n",
            "1    0.110604    AOS\n",
            "2    0.069334    ABT\n",
            "3    0.140078   ABBV\n",
            "4    0.132303    ACN\n",
            "..        ...    ...\n",
            "415  0.077574    XEL\n",
            "416  0.090922    XYL\n",
            "417  0.085567    YUM\n",
            "418 -0.008154    ZBH\n",
            "419  0.123096    ZTS\n",
            "\n",
            "[420 rows x 2 columns]\n",
            "✅ 2021-10-01 → 2021-12-31 | Portfolio: 7.87% | S&P 500: 9.39%\n"
          ]
        },
        {
          "output_type": "stream",
          "name": "stderr",
          "text": [
            "/usr/local/lib/python3.11/dist-packages/keras/src/layers/core/dense.py:87: UserWarning: Do not pass an `input_shape`/`input_dim` argument to a layer. When using Sequential models, prefer using an `Input(shape)` object as the first layer in the model instead.\n",
            "  super().__init__(activity_regularizer=activity_regularizer, **kwargs)\n"
          ]
        },
        {
          "output_type": "stream",
          "name": "stdout",
          "text": [
            "\u001b[1m14/14\u001b[0m \u001b[32m━━━━━━━━━━━━━━━━━━━━\u001b[0m\u001b[37m\u001b[0m \u001b[1m0s\u001b[0m 5ms/step \n",
            "Iteration loop 2\n",
            "(420, 73)\n",
            "        score symbol\n",
            "0   -0.028993    MMM\n",
            "1   -0.049144    AOS\n",
            "2   -0.057219    ABT\n",
            "3   -0.015631   ABBV\n",
            "4   -0.100208    ACN\n",
            "..        ...    ...\n",
            "415 -0.005507    XEL\n",
            "416 -0.111164    XYL\n",
            "417 -0.081834    YUM\n",
            "418 -0.031582    ZBH\n",
            "419 -0.071705    ZTS\n",
            "\n",
            "[420 rows x 2 columns]\n",
            "✅ 2022-01-01 → 2022-03-31 | Portfolio: 13.19% | S&P 500: -5.55%\n"
          ]
        },
        {
          "output_type": "stream",
          "name": "stderr",
          "text": [
            "/usr/local/lib/python3.11/dist-packages/keras/src/layers/core/dense.py:87: UserWarning: Do not pass an `input_shape`/`input_dim` argument to a layer. When using Sequential models, prefer using an `Input(shape)` object as the first layer in the model instead.\n",
            "  super().__init__(activity_regularizer=activity_regularizer, **kwargs)\n"
          ]
        },
        {
          "output_type": "stream",
          "name": "stdout",
          "text": [
            "\u001b[1m14/14\u001b[0m \u001b[32m━━━━━━━━━━━━━━━━━━━━\u001b[0m\u001b[37m\u001b[0m \u001b[1m0s\u001b[0m 5ms/step \n",
            "Iteration loop 3\n",
            "(420, 73)\n",
            "        score symbol\n",
            "0   -0.090232    MMM\n",
            "1   -0.135491    AOS\n",
            "2   -0.135562    ABT\n",
            "3   -0.104440   ABBV\n",
            "4   -0.128129    ACN\n",
            "..        ...    ...\n",
            "415 -0.087471    XEL\n",
            "416 -0.139628    XYL\n",
            "417 -0.113263    YUM\n",
            "418 -0.183594    ZBH\n",
            "419 -0.160478    ZTS\n",
            "\n",
            "[420 rows x 2 columns]\n",
            "✅ 2022-04-01 → 2022-06-30 | Portfolio: 78.66% | S&P 500: -16.73%\n"
          ]
        },
        {
          "output_type": "stream",
          "name": "stderr",
          "text": [
            "/usr/local/lib/python3.11/dist-packages/keras/src/layers/core/dense.py:87: UserWarning: Do not pass an `input_shape`/`input_dim` argument to a layer. When using Sequential models, prefer using an `Input(shape)` object as the first layer in the model instead.\n",
            "  super().__init__(activity_regularizer=activity_regularizer, **kwargs)\n"
          ]
        },
        {
          "output_type": "stream",
          "name": "stdout",
          "text": [
            "\u001b[1m14/14\u001b[0m \u001b[32m━━━━━━━━━━━━━━━━━━━━\u001b[0m\u001b[37m\u001b[0m \u001b[1m0s\u001b[0m 5ms/step\n",
            "Iteration loop 4\n",
            "(420, 73)\n",
            "        score symbol\n",
            "0   -0.062951    MMM\n",
            "1   -0.086328    AOS\n",
            "2   -0.076402    ABT\n",
            "3   -0.085631   ABBV\n",
            "4   -0.095843    ACN\n",
            "..        ...    ...\n",
            "415 -0.082863    XEL\n",
            "416 -0.056797    XYL\n",
            "417 -0.075711    YUM\n",
            "418 -0.056624    ZBH\n",
            "419 -0.065504    ZTS\n",
            "\n",
            "[420 rows x 2 columns]\n",
            "✅ 2022-07-01 → 2022-09-30 | Portfolio: 11.14% | S&P 500: -6.27%\n"
          ]
        },
        {
          "output_type": "stream",
          "name": "stderr",
          "text": [
            "/usr/local/lib/python3.11/dist-packages/keras/src/layers/core/dense.py:87: UserWarning: Do not pass an `input_shape`/`input_dim` argument to a layer. When using Sequential models, prefer using an `Input(shape)` object as the first layer in the model instead.\n",
            "  super().__init__(activity_regularizer=activity_regularizer, **kwargs)\n"
          ]
        },
        {
          "output_type": "stream",
          "name": "stdout",
          "text": [
            "\u001b[1m14/14\u001b[0m \u001b[32m━━━━━━━━━━━━━━━━━━━━\u001b[0m\u001b[37m\u001b[0m \u001b[1m0s\u001b[0m 5ms/step \n",
            "Iteration loop 5\n",
            "(420, 73)\n",
            "        score symbol\n",
            "0    0.119494    MMM\n",
            "1    0.103184    AOS\n",
            "2    0.079276    ABT\n",
            "3    0.106302   ABBV\n",
            "4    0.081401    ACN\n",
            "..        ...    ...\n",
            "415  0.063817    XEL\n",
            "416  0.076329    XYL\n",
            "417  0.093345    YUM\n",
            "418  0.141292    ZBH\n",
            "419  0.065723    ZTS\n",
            "\n",
            "[420 rows x 2 columns]\n",
            "✅ 2022-10-01 → 2022-12-31 | Portfolio: 12.63% | S&P 500: 3.96%\n"
          ]
        },
        {
          "output_type": "stream",
          "name": "stderr",
          "text": [
            "/usr/local/lib/python3.11/dist-packages/keras/src/layers/core/dense.py:87: UserWarning: Do not pass an `input_shape`/`input_dim` argument to a layer. When using Sequential models, prefer using an `Input(shape)` object as the first layer in the model instead.\n",
            "  super().__init__(activity_regularizer=activity_regularizer, **kwargs)\n"
          ]
        },
        {
          "output_type": "stream",
          "name": "stdout",
          "text": [
            "\u001b[1m14/14\u001b[0m \u001b[32m━━━━━━━━━━━━━━━━━━━━\u001b[0m\u001b[37m\u001b[0m \u001b[1m0s\u001b[0m 5ms/step \n",
            "Iteration loop 6\n",
            "(420, 73)\n",
            "        score symbol\n",
            "0   -0.009159    MMM\n",
            "1    0.016139    AOS\n",
            "2   -0.033394    ABT\n",
            "3   -0.035113   ABBV\n",
            "4    0.024401    ACN\n",
            "..        ...    ...\n",
            "415 -0.002007    XEL\n",
            "416  0.027375    XYL\n",
            "417  0.017932    YUM\n",
            "418  0.018997    ZBH\n",
            "419  0.038035    ZTS\n",
            "\n",
            "[420 rows x 2 columns]\n",
            "✅ 2023-01-01 → 2023-03-31 | Portfolio: 33.69% | S&P 500: 7.46%\n"
          ]
        },
        {
          "output_type": "stream",
          "name": "stderr",
          "text": [
            "/usr/local/lib/python3.11/dist-packages/keras/src/layers/core/dense.py:87: UserWarning: Do not pass an `input_shape`/`input_dim` argument to a layer. When using Sequential models, prefer using an `Input(shape)` object as the first layer in the model instead.\n",
            "  super().__init__(activity_regularizer=activity_regularizer, **kwargs)\n"
          ]
        },
        {
          "output_type": "stream",
          "name": "stdout",
          "text": [
            "\u001b[1m14/14\u001b[0m \u001b[32m━━━━━━━━━━━━━━━━━━━━\u001b[0m\u001b[37m\u001b[0m \u001b[1m0s\u001b[0m 12ms/step\n",
            "Iteration loop 7\n",
            "(420, 73)\n",
            "        score symbol\n",
            "0    0.012355    MMM\n",
            "1    0.049500    AOS\n",
            "2    0.044311    ABT\n",
            "3   -0.000763   ABBV\n",
            "4    0.024881    ACN\n",
            "..        ...    ...\n",
            "415 -0.009244    XEL\n",
            "416  0.022662    XYL\n",
            "417  0.030830    YUM\n",
            "418  0.046096    ZBH\n",
            "419  0.040112    ZTS\n",
            "\n",
            "[420 rows x 2 columns]\n",
            "✅ 2023-04-01 → 2023-06-30 | Portfolio: 75.09% | S&P 500: 7.90%\n"
          ]
        },
        {
          "output_type": "stream",
          "name": "stderr",
          "text": [
            "/usr/local/lib/python3.11/dist-packages/keras/src/layers/core/dense.py:87: UserWarning: Do not pass an `input_shape`/`input_dim` argument to a layer. When using Sequential models, prefer using an `Input(shape)` object as the first layer in the model instead.\n",
            "  super().__init__(activity_regularizer=activity_regularizer, **kwargs)\n"
          ]
        },
        {
          "output_type": "stream",
          "name": "stdout",
          "text": [
            "\u001b[1m14/14\u001b[0m \u001b[32m━━━━━━━━━━━━━━━━━━━━\u001b[0m\u001b[37m\u001b[0m \u001b[1m0s\u001b[0m 5ms/step \n",
            "Iteration loop 8\n",
            "(420, 73)\n",
            "        score symbol\n",
            "0   -0.046425    MMM\n",
            "1   -0.057454    AOS\n",
            "2   -0.046530    ABT\n",
            "3   -0.032835   ABBV\n",
            "4   -0.059284    ACN\n",
            "..        ...    ...\n",
            "415 -0.052807    XEL\n",
            "416 -0.049501    XYL\n",
            "417 -0.050239    YUM\n",
            "418 -0.087210    ZBH\n",
            "419 -0.029957    ZTS\n",
            "\n",
            "[420 rows x 2 columns]\n",
            "✅ 2023-07-01 → 2023-09-30 | Portfolio: 19.37% | S&P 500: -3.75%\n"
          ]
        },
        {
          "output_type": "stream",
          "name": "stderr",
          "text": [
            "/usr/local/lib/python3.11/dist-packages/keras/src/layers/core/dense.py:87: UserWarning: Do not pass an `input_shape`/`input_dim` argument to a layer. When using Sequential models, prefer using an `Input(shape)` object as the first layer in the model instead.\n",
            "  super().__init__(activity_regularizer=activity_regularizer, **kwargs)\n"
          ]
        },
        {
          "output_type": "stream",
          "name": "stdout",
          "text": [
            "\u001b[1m14/14\u001b[0m \u001b[32m━━━━━━━━━━━━━━━━━━━━\u001b[0m\u001b[37m\u001b[0m \u001b[1m0s\u001b[0m 5ms/step \n",
            "Iteration loop 9\n",
            "(420, 73)\n",
            "        score symbol\n",
            "0    0.105700    MMM\n",
            "1    0.092693    AOS\n",
            "2    0.115966    ABT\n",
            "3    0.111584   ABBV\n",
            "4    0.108828    ACN\n",
            "..        ...    ...\n",
            "415  0.101838    XEL\n",
            "416  0.118325    XYL\n",
            "417  0.127061    YUM\n",
            "418  0.100324    ZBH\n",
            "419  0.107919    ZTS\n",
            "\n",
            "[420 rows x 2 columns]\n",
            "✅ 2023-10-01 → 2023-12-31 | Portfolio: 20.99% | S&P 500: 10.60%\n"
          ]
        },
        {
          "output_type": "stream",
          "name": "stderr",
          "text": [
            "/usr/local/lib/python3.11/dist-packages/keras/src/layers/core/dense.py:87: UserWarning: Do not pass an `input_shape`/`input_dim` argument to a layer. When using Sequential models, prefer using an `Input(shape)` object as the first layer in the model instead.\n",
            "  super().__init__(activity_regularizer=activity_regularizer, **kwargs)\n"
          ]
        },
        {
          "output_type": "stream",
          "name": "stdout",
          "text": [
            "\u001b[1m14/14\u001b[0m \u001b[32m━━━━━━━━━━━━━━━━━━━━\u001b[0m\u001b[37m\u001b[0m \u001b[1m0s\u001b[0m 5ms/step \n",
            "Iteration loop 10\n",
            "(420, 73)\n",
            "        score symbol\n",
            "0    0.046749    MMM\n",
            "1    0.079764    AOS\n",
            "2    0.078597    ABT\n",
            "3    0.067948   ABBV\n",
            "4    0.082083    ACN\n",
            "..        ...    ...\n",
            "415 -0.026028    XEL\n",
            "416  0.085917    XYL\n",
            "417  0.068911    YUM\n",
            "418  0.086943    ZBH\n",
            "419  0.050826    ZTS\n",
            "\n",
            "[420 rows x 2 columns]\n",
            "✅ 2024-01-01 → 2024-03-31 | Portfolio: 39.48% | S&P 500: 10.56%\n"
          ]
        },
        {
          "output_type": "stream",
          "name": "stderr",
          "text": [
            "/usr/local/lib/python3.11/dist-packages/keras/src/layers/core/dense.py:87: UserWarning: Do not pass an `input_shape`/`input_dim` argument to a layer. When using Sequential models, prefer using an `Input(shape)` object as the first layer in the model instead.\n",
            "  super().__init__(activity_regularizer=activity_regularizer, **kwargs)\n"
          ]
        },
        {
          "output_type": "stream",
          "name": "stdout",
          "text": [
            "\u001b[1m14/14\u001b[0m \u001b[32m━━━━━━━━━━━━━━━━━━━━\u001b[0m\u001b[37m\u001b[0m \u001b[1m0s\u001b[0m 5ms/step\n",
            "Iteration loop 11\n",
            "(420, 73)\n",
            "        score symbol\n",
            "0   -0.001307    MMM\n",
            "1   -0.048006    AOS\n",
            "2   -0.036264    ABT\n",
            "3   -0.011501   ABBV\n",
            "4   -0.026278    ACN\n",
            "..        ...    ...\n",
            "415 -0.012731    XEL\n",
            "416 -0.044902    XYL\n",
            "417 -0.029644    YUM\n",
            "418 -0.058925    ZBH\n",
            "419 -0.029276    ZTS\n",
            "\n",
            "[420 rows x 2 columns]\n",
            "✅ 2024-04-01 → 2024-06-30 | Portfolio: 30.47% | S&P 500: 4.41%\n"
          ]
        },
        {
          "output_type": "stream",
          "name": "stderr",
          "text": [
            "/usr/local/lib/python3.11/dist-packages/keras/src/layers/core/dense.py:87: UserWarning: Do not pass an `input_shape`/`input_dim` argument to a layer. When using Sequential models, prefer using an `Input(shape)` object as the first layer in the model instead.\n",
            "  super().__init__(activity_regularizer=activity_regularizer, **kwargs)\n"
          ]
        },
        {
          "output_type": "stream",
          "name": "stdout",
          "text": [
            "\u001b[1m14/14\u001b[0m \u001b[32m━━━━━━━━━━━━━━━━━━━━\u001b[0m\u001b[37m\u001b[0m \u001b[1m0s\u001b[0m 5ms/step \n",
            "Iteration loop 12\n",
            "(420, 73)\n",
            "        score symbol\n",
            "0    0.139630    MMM\n",
            "1    0.103176    AOS\n",
            "2    0.070474    ABT\n",
            "3    0.115355   ABBV\n",
            "4    0.079430    ACN\n",
            "..        ...    ...\n",
            "415  0.173349    XEL\n",
            "416  0.064787    XYL\n",
            "417  0.075296    YUM\n",
            "418  0.066414    ZBH\n",
            "419  0.080685    ZTS\n",
            "\n",
            "[420 rows x 2 columns]\n",
            "✅ 2024-07-01 → 2024-09-30 | Portfolio: 19.47% | S&P 500: 5.25%\n"
          ]
        },
        {
          "output_type": "stream",
          "name": "stderr",
          "text": [
            "<ipython-input-30-7877bb1446bc>:156: UserWarning: Glyph 128200 (\\N{CHART WITH UPWARDS TREND}) missing from font(s) DejaVu Sans.\n",
            "  plt.tight_layout()\n",
            "<ipython-input-30-7877bb1446bc>:156: UserWarning: Glyph 127963 (\\N{CLASSICAL BUILDING}) missing from font(s) DejaVu Sans.\n",
            "  plt.tight_layout()\n",
            "/usr/local/lib/python3.11/dist-packages/IPython/core/pylabtools.py:151: UserWarning: Glyph 128200 (\\N{CHART WITH UPWARDS TREND}) missing from font(s) DejaVu Sans.\n",
            "  fig.canvas.print_figure(bytes_io, **kw)\n",
            "/usr/local/lib/python3.11/dist-packages/IPython/core/pylabtools.py:151: UserWarning: Glyph 127963 (\\N{CLASSICAL BUILDING}) missing from font(s) DejaVu Sans.\n",
            "  fig.canvas.print_figure(bytes_io, **kw)\n"
          ]
        },
        {
          "output_type": "display_data",
          "data": {
            "text/plain": [
              "<Figure size 1000x600 with 1 Axes>"
            ],
            "image/png": "[encoded data removed]"
          },
          "metadata": {}
        },
        {
          "output_type": "stream",
          "name": "stdout",
          "text": [
            "\n",
            "📈 Portfolio CAGR: 171.71%\n",
            "🏛️ S&P 500 Index CAGR: 7.93%\n"
          ]
        }
      ]
    },
    {
      "cell_type": "code",
      "source": [
        "import pandas as pd\n",
        "import numpy as np\n",
        "from datetime import timedelta\n",
        "from dateutil.relativedelta import relativedelta\n",
        "from sklearn.preprocessing import StandardScaler\n",
        "from tensorflow.keras.models import Sequential\n",
        "from tensorflow.keras.layers import Dense, Dropout\n",
        "from matplotlib import pyplot as plt\n",
        "\n",
        "import scipy.optimize as sco\n",
        "\n",
        "def sharpe_optimization(expected_returns, cov_matrix):\n",
        "    num_assets = len(expected_returns)\n",
        "\n",
        "    def portfolio_performance(weights):\n",
        "        port_return = np.dot(weights, expected_returns)\n",
        "        port_volatility = np.sqrt(np.dot(weights.T, np.dot(cov_matrix, weights)))\n",
        "        return -port_return / port_volatility  # Negative Sharpe Ratio (we minimize)\n",
        "\n",
        "    constraints = {'type': 'eq', 'fun': lambda x: np.sum(x) - 1}\n",
        "    bounds = tuple((0, 1) for _ in range(num_assets))\n",
        "    initial_weights = np.array([1. / num_assets] * num_assets)\n",
        "\n",
        "    result = sco.minimize(portfolio_performance, initial_weights, method='SLSQP',\n",
        "                          bounds=bounds, constraints=constraints)\n",
        "\n",
        "    return result.x if result.success else initial_weights\n",
        "\n",
        "\n",
        "# Load datasets\n",
        "metadata = pd.read_csv(\"scaled_metadata.csv\")\n",
        "price_df = pd.read_csv(\"price_matrix.csv\", index_col=0)\n",
        "price_df.index = pd.to_datetime(price_df.index, format=\"%d-%b-%y\", errors='coerce')\n",
        "price_df = price_df.sort_index()\n",
        "\n",
        "sp500 = pd.read_csv(\"snp500_INDEX_daily_closing_prices.csv\")\n",
        "sp500[\"date\"] = pd.to_datetime(sp500[\"Date\"])\n",
        "sp500 = sp500.set_index(\"date\").sort_index()\n",
        "sp500_prices = sp500[\"Close Price\"]\n",
        "\n",
        "symbols = list(set(metadata[\"symbol\"]).intersection(price_df.columns))\n",
        "metadata = metadata[metadata[\"symbol\"].isin(symbols)]\n",
        "price_df = price_df[symbols]\n",
        "\n",
        "lookback_days = 90\n",
        "prediction_days = 60\n",
        "start_date = price_df.index[0] + timedelta(days=lookback_days)\n",
        "end_date = price_df.index[-1] - timedelta(days=prediction_days)\n",
        "rebalance_dates = pd.date_range(start=start_date, end=end_date, freq=\"QS\")\n",
        "\n",
        "portfolio_value = 1.0\n",
        "benchmark_value = 1.0\n",
        "cumulative_returns = []\n",
        "benchmark_returns = []\n",
        "dates = []\n",
        "\n",
        "# Utility\n",
        "\n",
        "def get_return(prices, start, end):\n",
        "    return (prices.loc[end] - prices.loc[start]) / prices.loc[start]\n",
        "\n",
        "def safe_price(date):\n",
        "    dates = sp500_prices.index[sp500_prices.index >= date]\n",
        "    return sp500_prices.loc[dates[0]] if not dates.empty else None\n",
        "\n",
        "# Loop\n",
        "for i in range(len(rebalance_dates) - 1):\n",
        "    train_start = rebalance_dates[i] - timedelta(days=lookback_days)\n",
        "    train_end = rebalance_dates[i] - timedelta(days=1)\n",
        "    test_start = rebalance_dates[i]\n",
        "    test_end = rebalance_dates[i + 1] - timedelta(days=1)\n",
        "\n",
        "    try:\n",
        "        past_prices = price_df.loc[train_start:train_end]\n",
        "        future_prices = price_df.loc[test_start:test_end]\n",
        "\n",
        "        past_return = get_return(past_prices, past_prices.index[0], past_prices.index[-1])\n",
        "        future_return = get_return(future_prices, future_prices.index[0], future_prices.index[-1])\n",
        "\n",
        "        train_df = metadata.copy()\n",
        "        train_df[\"past_return\"] = train_df[\"symbol\"].map(past_return)\n",
        "        train_df[\"target_return\"] = train_df[\"symbol\"].map(future_return)\n",
        "        train_df = train_df.dropna(subset=[\"past_return\", \"target_return\"])\n",
        "\n",
        "        if train_df.shape[0] < 30:\n",
        "            print(f\"⚠️ Skipping {test_start.date()} — insufficient data.\")\n",
        "            continue\n",
        "\n",
        "        X_train = train_df.drop(columns=[\"symbol\", \"target_return\"]).values\n",
        "        y_train = train_df[\"target_return\"].values\n",
        "\n",
        "        model = Sequential([\n",
        "            Dense(128, activation='relu', input_shape=(X_train.shape[1],)),\n",
        "            Dropout(0.3),\n",
        "            Dense(64, activation='relu'),\n",
        "            Dropout(0.3),\n",
        "            Dense(1)\n",
        "        ])\n",
        "        model.compile(optimizer='adam', loss='mse')\n",
        "        model.fit(X_train, y_train, epochs=100, verbose=0)\n",
        "\n",
        "        predict_df = metadata.copy()\n",
        "        predict_df[\"past_return\"] = predict_df[\"symbol\"].map(past_return)\n",
        "        predict_df = predict_df.dropna(subset=[\"past_return\"])\n",
        "        X_pred = predict_df.drop(columns=[\"symbol\"]).values\n",
        "        predict_df[\"score\"] = model.predict(X_pred).flatten()\n",
        "\n",
        "        top_stocks = predict_df.sort_values(\"score\", ascending=False).head(20)\n",
        "        top_symbols = top_stocks[\"symbol\"].values\n",
        "\n",
        "        future_window = future_prices[top_symbols]\n",
        "        top_returns = future_window.pct_change().dropna()\n",
        "        mean_returns = top_returns.mean()\n",
        "        vol = top_returns.std()\n",
        "        sharpe_scores = mean_returns / vol\n",
        "        weights = sharpe_scores / sharpe_scores.sum()\n",
        "\n",
        "        daily_returns = top_returns @ weights.values\n",
        "        cumulative = (1 + daily_returns).cumprod() * portfolio_value\n",
        "        portfolio_value = cumulative[-1]\n",
        "\n",
        "        sp_start, sp_end = safe_price(test_start), safe_price(test_end)\n",
        "        if sp_start is None or sp_end is None:\n",
        "            print(f\"⚠️ Missing S&P 500 data from {test_start.date()} to {test_end.date()}, skipping.\")\n",
        "            continue\n",
        "\n",
        "        sp_return = (sp_end - sp_start) / sp_start\n",
        "        benchmark_value *= (1 + sp_return)\n",
        "\n",
        "        cumulative_returns.append(portfolio_value)\n",
        "        benchmark_returns.append(benchmark_value)\n",
        "        dates.append(test_end.date())\n",
        "\n",
        "        print(f\"✅ {test_start.date()} → {test_end.date()} | Portfolio: {cumulative[-1]:.2f} | S&P 500: {benchmark_value:.2f}\")\n",
        "\n",
        "    except Exception as e:\n",
        "        print(f\"❌ Error from {test_start.date()}: {e}\")\n",
        "        continue\n",
        "\n",
        "# Plotting\n",
        "plt.figure(figsize=(10, 6))\n",
        "plt.plot(dates, cumulative_returns, label=\"📈 NN Portfolio\")\n",
        "plt.plot(dates, benchmark_returns, label=\"🏛️ S&P 500 Index\")\n",
        "plt.xlabel(\"Date\")\n",
        "plt.ylabel(\"Cumulative Return\")\n",
        "plt.title(\"Neural Network Portfolio vs S&P 500\")\n",
        "plt.grid(True)\n",
        "plt.legend()\n",
        "plt.tight_layout()\n",
        "plt.show()\n",
        "\n",
        "# CAGR\n",
        "if dates:\n",
        "    def cagr(start, end, years): return (end / start) ** (1 / years) - 1\n",
        "    years = (dates[-1] - dates[0]).days / 365.25\n",
        "    port_cagr = cagr(cumulative_returns[0], cumulative_returns[-1], years)\n",
        "    bench_cagr = cagr(benchmark_returns[0], benchmark_returns[-1], years)\n",
        "    print(f\"\\n📈 Portfolio CAGR: {port_cagr:.2%}\")\n",
        "    print(f\"🏛️ S&P 500 Index CAGR: {bench_cagr:.2%}\")\n"
      ],
      "metadata": {
        "colab": {
          "base_uri": "https://localhost:8080/",
          "height": 1000
        },
        "id": "V3cpCg93leM-",
        "outputId": "b30ddcd7-0fa9-455e-ea6e-0297981cffb9"
      },
      "execution_count": 31,
      "outputs": [
        {
          "output_type": "stream",
          "name": "stderr",
          "text": [
            "<ipython-input-31-48fc587e30ce>:37: UserWarning: Could not infer format, so each element will be parsed individually, falling back to `dateutil`. To ensure parsing is consistent and as-expected, please specify a format.\n",
            "  sp500[\"date\"] = pd.to_datetime(sp500[\"Date\"])\n",
            "/usr/local/lib/python3.11/dist-packages/keras/src/layers/core/dense.py:87: UserWarning: Do not pass an `input_shape`/`input_dim` argument to a layer. When using Sequential models, prefer using an `Input(shape)` object as the first layer in the model instead.\n",
            "  super().__init__(activity_regularizer=activity_regularizer, **kwargs)\n"
          ]
        },
        {
          "output_type": "stream",
          "name": "stdout",
          "text": [
            "\u001b[1m14/14\u001b[0m \u001b[32m━━━━━━━━━━━━━━━━━━━━\u001b[0m\u001b[37m\u001b[0m \u001b[1m0s\u001b[0m 5ms/step \n",
            "✅ 2021-07-01 → 2021-09-30 | Portfolio: 1.16 | S&P 500: 1.00\n"
          ]
        },
        {
          "output_type": "stream",
          "name": "stderr",
          "text": [
            "<ipython-input-31-48fc587e30ce>:120: FutureWarning: Series.__getitem__ treating keys as positions is deprecated. In a future version, integer keys will always be treated as labels (consistent with DataFrame behavior). To access a value by position, use `ser.iloc[pos]`\n",
            "  portfolio_value = cumulative[-1]\n",
            "<ipython-input-31-48fc587e30ce>:134: FutureWarning: Series.__getitem__ treating keys as positions is deprecated. In a future version, integer keys will always be treated as labels (consistent with DataFrame behavior). To access a value by position, use `ser.iloc[pos]`\n",
            "  print(f\"✅ {test_start.date()} → {test_end.date()} | Portfolio: {cumulative[-1]:.2f} | S&P 500: {benchmark_value:.2f}\")\n",
            "/usr/local/lib/python3.11/dist-packages/keras/src/layers/core/dense.py:87: UserWarning: Do not pass an `input_shape`/`input_dim` argument to a layer. When using Sequential models, prefer using an `Input(shape)` object as the first layer in the model instead.\n",
            "  super().__init__(activity_regularizer=activity_regularizer, **kwargs)\n"
          ]
        },
        {
          "output_type": "stream",
          "name": "stdout",
          "text": [
            "\u001b[1m14/14\u001b[0m \u001b[32m━━━━━━━━━━━━━━━━━━━━\u001b[0m\u001b[37m\u001b[0m \u001b[1m0s\u001b[0m 5ms/step \n",
            "✅ 2021-10-01 → 2021-12-31 | Portfolio: 1.54 | S&P 500: 1.09\n"
          ]
        },
        {
          "output_type": "stream",
          "name": "stderr",
          "text": [
            "<ipython-input-31-48fc587e30ce>:120: FutureWarning: Series.__getitem__ treating keys as positions is deprecated. In a future version, integer keys will always be treated as labels (consistent with DataFrame behavior). To access a value by position, use `ser.iloc[pos]`\n",
            "  portfolio_value = cumulative[-1]\n",
            "<ipython-input-31-48fc587e30ce>:134: FutureWarning: Series.__getitem__ treating keys as positions is deprecated. In a future version, integer keys will always be treated as labels (consistent with DataFrame behavior). To access a value by position, use `ser.iloc[pos]`\n",
            "  print(f\"✅ {test_start.date()} → {test_end.date()} | Portfolio: {cumulative[-1]:.2f} | S&P 500: {benchmark_value:.2f}\")\n",
            "/usr/local/lib/python3.11/dist-packages/keras/src/layers/core/dense.py:87: UserWarning: Do not pass an `input_shape`/`input_dim` argument to a layer. When using Sequential models, prefer using an `Input(shape)` object as the first layer in the model instead.\n",
            "  super().__init__(activity_regularizer=activity_regularizer, **kwargs)\n"
          ]
        },
        {
          "output_type": "stream",
          "name": "stdout",
          "text": [
            "\u001b[1m14/14\u001b[0m \u001b[32m━━━━━━━━━━━━━━━━━━━━\u001b[0m\u001b[37m\u001b[0m \u001b[1m0s\u001b[0m 5ms/step \n",
            "✅ 2022-01-01 → 2022-03-31 | Portfolio: 2.15 | S&P 500: 1.03\n"
          ]
        },
        {
          "output_type": "stream",
          "name": "stderr",
          "text": [
            "<ipython-input-31-48fc587e30ce>:120: FutureWarning: Series.__getitem__ treating keys as positions is deprecated. In a future version, integer keys will always be treated as labels (consistent with DataFrame behavior). To access a value by position, use `ser.iloc[pos]`\n",
            "  portfolio_value = cumulative[-1]\n",
            "<ipython-input-31-48fc587e30ce>:134: FutureWarning: Series.__getitem__ treating keys as positions is deprecated. In a future version, integer keys will always be treated as labels (consistent with DataFrame behavior). To access a value by position, use `ser.iloc[pos]`\n",
            "  print(f\"✅ {test_start.date()} → {test_end.date()} | Portfolio: {cumulative[-1]:.2f} | S&P 500: {benchmark_value:.2f}\")\n",
            "/usr/local/lib/python3.11/dist-packages/keras/src/layers/core/dense.py:87: UserWarning: Do not pass an `input_shape`/`input_dim` argument to a layer. When using Sequential models, prefer using an `Input(shape)` object as the first layer in the model instead.\n",
            "  super().__init__(activity_regularizer=activity_regularizer, **kwargs)\n"
          ]
        },
        {
          "output_type": "stream",
          "name": "stdout",
          "text": [
            "\u001b[1m14/14\u001b[0m \u001b[32m━━━━━━━━━━━━━━━━━━━━\u001b[0m\u001b[37m\u001b[0m \u001b[1m0s\u001b[0m 6ms/step\n",
            "✅ 2022-04-01 → 2022-06-30 | Portfolio: 224.62 | S&P 500: 0.86\n"
          ]
        },
        {
          "output_type": "stream",
          "name": "stderr",
          "text": [
            "<ipython-input-31-48fc587e30ce>:120: FutureWarning: Series.__getitem__ treating keys as positions is deprecated. In a future version, integer keys will always be treated as labels (consistent with DataFrame behavior). To access a value by position, use `ser.iloc[pos]`\n",
            "  portfolio_value = cumulative[-1]\n",
            "<ipython-input-31-48fc587e30ce>:134: FutureWarning: Series.__getitem__ treating keys as positions is deprecated. In a future version, integer keys will always be treated as labels (consistent with DataFrame behavior). To access a value by position, use `ser.iloc[pos]`\n",
            "  print(f\"✅ {test_start.date()} → {test_end.date()} | Portfolio: {cumulative[-1]:.2f} | S&P 500: {benchmark_value:.2f}\")\n",
            "/usr/local/lib/python3.11/dist-packages/keras/src/layers/core/dense.py:87: UserWarning: Do not pass an `input_shape`/`input_dim` argument to a layer. When using Sequential models, prefer using an `Input(shape)` object as the first layer in the model instead.\n",
            "  super().__init__(activity_regularizer=activity_regularizer, **kwargs)\n"
          ]
        },
        {
          "output_type": "stream",
          "name": "stdout",
          "text": [
            "\u001b[1m14/14\u001b[0m \u001b[32m━━━━━━━━━━━━━━━━━━━━\u001b[0m\u001b[37m\u001b[0m \u001b[1m0s\u001b[0m 6ms/step\n",
            "✅ 2022-07-01 → 2022-09-30 | Portfolio: 263.23 | S&P 500: 0.80\n"
          ]
        },
        {
          "output_type": "stream",
          "name": "stderr",
          "text": [
            "<ipython-input-31-48fc587e30ce>:120: FutureWarning: Series.__getitem__ treating keys as positions is deprecated. In a future version, integer keys will always be treated as labels (consistent with DataFrame behavior). To access a value by position, use `ser.iloc[pos]`\n",
            "  portfolio_value = cumulative[-1]\n",
            "<ipython-input-31-48fc587e30ce>:134: FutureWarning: Series.__getitem__ treating keys as positions is deprecated. In a future version, integer keys will always be treated as labels (consistent with DataFrame behavior). To access a value by position, use `ser.iloc[pos]`\n",
            "  print(f\"✅ {test_start.date()} → {test_end.date()} | Portfolio: {cumulative[-1]:.2f} | S&P 500: {benchmark_value:.2f}\")\n",
            "/usr/local/lib/python3.11/dist-packages/keras/src/layers/core/dense.py:87: UserWarning: Do not pass an `input_shape`/`input_dim` argument to a layer. When using Sequential models, prefer using an `Input(shape)` object as the first layer in the model instead.\n",
            "  super().__init__(activity_regularizer=activity_regularizer, **kwargs)\n"
          ]
        },
        {
          "output_type": "stream",
          "name": "stdout",
          "text": [
            "\u001b[1m14/14\u001b[0m \u001b[32m━━━━━━━━━━━━━━━━━━━━\u001b[0m\u001b[37m\u001b[0m \u001b[1m0s\u001b[0m 6ms/step\n",
            "✅ 2022-10-01 → 2022-12-31 | Portfolio: 362.37 | S&P 500: 0.84\n"
          ]
        },
        {
          "output_type": "stream",
          "name": "stderr",
          "text": [
            "<ipython-input-31-48fc587e30ce>:120: FutureWarning: Series.__getitem__ treating keys as positions is deprecated. In a future version, integer keys will always be treated as labels (consistent with DataFrame behavior). To access a value by position, use `ser.iloc[pos]`\n",
            "  portfolio_value = cumulative[-1]\n",
            "<ipython-input-31-48fc587e30ce>:134: FutureWarning: Series.__getitem__ treating keys as positions is deprecated. In a future version, integer keys will always be treated as labels (consistent with DataFrame behavior). To access a value by position, use `ser.iloc[pos]`\n",
            "  print(f\"✅ {test_start.date()} → {test_end.date()} | Portfolio: {cumulative[-1]:.2f} | S&P 500: {benchmark_value:.2f}\")\n",
            "/usr/local/lib/python3.11/dist-packages/keras/src/layers/core/dense.py:87: UserWarning: Do not pass an `input_shape`/`input_dim` argument to a layer. When using Sequential models, prefer using an `Input(shape)` object as the first layer in the model instead.\n",
            "  super().__init__(activity_regularizer=activity_regularizer, **kwargs)\n"
          ]
        },
        {
          "output_type": "stream",
          "name": "stdout",
          "text": [
            "\u001b[1m14/14\u001b[0m \u001b[32m━━━━━━━━━━━━━━━━━━━━\u001b[0m\u001b[37m\u001b[0m \u001b[1m0s\u001b[0m 6ms/step\n",
            "✅ 2023-01-01 → 2023-03-31 | Portfolio: 517.50 | S&P 500: 0.90\n"
          ]
        },
        {
          "output_type": "stream",
          "name": "stderr",
          "text": [
            "<ipython-input-31-48fc587e30ce>:120: FutureWarning: Series.__getitem__ treating keys as positions is deprecated. In a future version, integer keys will always be treated as labels (consistent with DataFrame behavior). To access a value by position, use `ser.iloc[pos]`\n",
            "  portfolio_value = cumulative[-1]\n",
            "<ipython-input-31-48fc587e30ce>:134: FutureWarning: Series.__getitem__ treating keys as positions is deprecated. In a future version, integer keys will always be treated as labels (consistent with DataFrame behavior). To access a value by position, use `ser.iloc[pos]`\n",
            "  print(f\"✅ {test_start.date()} → {test_end.date()} | Portfolio: {cumulative[-1]:.2f} | S&P 500: {benchmark_value:.2f}\")\n",
            "/usr/local/lib/python3.11/dist-packages/keras/src/layers/core/dense.py:87: UserWarning: Do not pass an `input_shape`/`input_dim` argument to a layer. When using Sequential models, prefer using an `Input(shape)` object as the first layer in the model instead.\n",
            "  super().__init__(activity_regularizer=activity_regularizer, **kwargs)\n"
          ]
        },
        {
          "output_type": "stream",
          "name": "stdout",
          "text": [
            "\u001b[1m14/14\u001b[0m \u001b[32m━━━━━━━━━━━━━━━━━━━━\u001b[0m\u001b[37m\u001b[0m \u001b[1m0s\u001b[0m 5ms/step\n",
            "✅ 2023-04-01 → 2023-06-30 | Portfolio: 715.26 | S&P 500: 0.97\n"
          ]
        },
        {
          "output_type": "stream",
          "name": "stderr",
          "text": [
            "<ipython-input-31-48fc587e30ce>:120: FutureWarning: Series.__getitem__ treating keys as positions is deprecated. In a future version, integer keys will always be treated as labels (consistent with DataFrame behavior). To access a value by position, use `ser.iloc[pos]`\n",
            "  portfolio_value = cumulative[-1]\n",
            "<ipython-input-31-48fc587e30ce>:134: FutureWarning: Series.__getitem__ treating keys as positions is deprecated. In a future version, integer keys will always be treated as labels (consistent with DataFrame behavior). To access a value by position, use `ser.iloc[pos]`\n",
            "  print(f\"✅ {test_start.date()} → {test_end.date()} | Portfolio: {cumulative[-1]:.2f} | S&P 500: {benchmark_value:.2f}\")\n",
            "/usr/local/lib/python3.11/dist-packages/keras/src/layers/core/dense.py:87: UserWarning: Do not pass an `input_shape`/`input_dim` argument to a layer. When using Sequential models, prefer using an `Input(shape)` object as the first layer in the model instead.\n",
            "  super().__init__(activity_regularizer=activity_regularizer, **kwargs)\n"
          ]
        },
        {
          "output_type": "stream",
          "name": "stdout",
          "text": [
            "\u001b[1m14/14\u001b[0m \u001b[32m━━━━━━━━━━━━━━━━━━━━\u001b[0m\u001b[37m\u001b[0m \u001b[1m0s\u001b[0m 6ms/step\n",
            "✅ 2023-07-01 → 2023-09-30 | Portfolio: 865.65 | S&P 500: 0.93\n"
          ]
        },
        {
          "output_type": "stream",
          "name": "stderr",
          "text": [
            "<ipython-input-31-48fc587e30ce>:120: FutureWarning: Series.__getitem__ treating keys as positions is deprecated. In a future version, integer keys will always be treated as labels (consistent with DataFrame behavior). To access a value by position, use `ser.iloc[pos]`\n",
            "  portfolio_value = cumulative[-1]\n",
            "<ipython-input-31-48fc587e30ce>:134: FutureWarning: Series.__getitem__ treating keys as positions is deprecated. In a future version, integer keys will always be treated as labels (consistent with DataFrame behavior). To access a value by position, use `ser.iloc[pos]`\n",
            "  print(f\"✅ {test_start.date()} → {test_end.date()} | Portfolio: {cumulative[-1]:.2f} | S&P 500: {benchmark_value:.2f}\")\n",
            "/usr/local/lib/python3.11/dist-packages/keras/src/layers/core/dense.py:87: UserWarning: Do not pass an `input_shape`/`input_dim` argument to a layer. When using Sequential models, prefer using an `Input(shape)` object as the first layer in the model instead.\n",
            "  super().__init__(activity_regularizer=activity_regularizer, **kwargs)\n"
          ]
        },
        {
          "output_type": "stream",
          "name": "stdout",
          "text": [
            "\u001b[1m14/14\u001b[0m \u001b[32m━━━━━━━━━━━━━━━━━━━━\u001b[0m\u001b[37m\u001b[0m \u001b[1m0s\u001b[0m 5ms/step \n",
            "✅ 2023-10-01 → 2023-12-31 | Portfolio: 1197.22 | S&P 500: 1.03\n"
          ]
        },
        {
          "output_type": "stream",
          "name": "stderr",
          "text": [
            "<ipython-input-31-48fc587e30ce>:120: FutureWarning: Series.__getitem__ treating keys as positions is deprecated. In a future version, integer keys will always be treated as labels (consistent with DataFrame behavior). To access a value by position, use `ser.iloc[pos]`\n",
            "  portfolio_value = cumulative[-1]\n",
            "<ipython-input-31-48fc587e30ce>:134: FutureWarning: Series.__getitem__ treating keys as positions is deprecated. In a future version, integer keys will always be treated as labels (consistent with DataFrame behavior). To access a value by position, use `ser.iloc[pos]`\n",
            "  print(f\"✅ {test_start.date()} → {test_end.date()} | Portfolio: {cumulative[-1]:.2f} | S&P 500: {benchmark_value:.2f}\")\n",
            "/usr/local/lib/python3.11/dist-packages/keras/src/layers/core/dense.py:87: UserWarning: Do not pass an `input_shape`/`input_dim` argument to a layer. When using Sequential models, prefer using an `Input(shape)` object as the first layer in the model instead.\n",
            "  super().__init__(activity_regularizer=activity_regularizer, **kwargs)\n"
          ]
        },
        {
          "output_type": "stream",
          "name": "stdout",
          "text": [
            "\u001b[1m14/14\u001b[0m \u001b[32m━━━━━━━━━━━━━━━━━━━━\u001b[0m\u001b[37m\u001b[0m \u001b[1m0s\u001b[0m 6ms/step\n",
            "✅ 2024-01-01 → 2024-03-31 | Portfolio: 1585.38 | S&P 500: 1.14\n"
          ]
        },
        {
          "output_type": "stream",
          "name": "stderr",
          "text": [
            "<ipython-input-31-48fc587e30ce>:120: FutureWarning: Series.__getitem__ treating keys as positions is deprecated. In a future version, integer keys will always be treated as labels (consistent with DataFrame behavior). To access a value by position, use `ser.iloc[pos]`\n",
            "  portfolio_value = cumulative[-1]\n",
            "<ipython-input-31-48fc587e30ce>:134: FutureWarning: Series.__getitem__ treating keys as positions is deprecated. In a future version, integer keys will always be treated as labels (consistent with DataFrame behavior). To access a value by position, use `ser.iloc[pos]`\n",
            "  print(f\"✅ {test_start.date()} → {test_end.date()} | Portfolio: {cumulative[-1]:.2f} | S&P 500: {benchmark_value:.2f}\")\n",
            "/usr/local/lib/python3.11/dist-packages/keras/src/layers/core/dense.py:87: UserWarning: Do not pass an `input_shape`/`input_dim` argument to a layer. When using Sequential models, prefer using an `Input(shape)` object as the first layer in the model instead.\n",
            "  super().__init__(activity_regularizer=activity_regularizer, **kwargs)\n"
          ]
        },
        {
          "output_type": "stream",
          "name": "stdout",
          "text": [
            "\u001b[1m14/14\u001b[0m \u001b[32m━━━━━━━━━━━━━━━━━━━━\u001b[0m\u001b[37m\u001b[0m \u001b[1m0s\u001b[0m 5ms/step \n",
            "✅ 2024-04-01 → 2024-06-30 | Portfolio: 1881.67 | S&P 500: 1.19\n"
          ]
        },
        {
          "output_type": "stream",
          "name": "stderr",
          "text": [
            "<ipython-input-31-48fc587e30ce>:120: FutureWarning: Series.__getitem__ treating keys as positions is deprecated. In a future version, integer keys will always be treated as labels (consistent with DataFrame behavior). To access a value by position, use `ser.iloc[pos]`\n",
            "  portfolio_value = cumulative[-1]\n",
            "<ipython-input-31-48fc587e30ce>:134: FutureWarning: Series.__getitem__ treating keys as positions is deprecated. In a future version, integer keys will always be treated as labels (consistent with DataFrame behavior). To access a value by position, use `ser.iloc[pos]`\n",
            "  print(f\"✅ {test_start.date()} → {test_end.date()} | Portfolio: {cumulative[-1]:.2f} | S&P 500: {benchmark_value:.2f}\")\n",
            "/usr/local/lib/python3.11/dist-packages/keras/src/layers/core/dense.py:87: UserWarning: Do not pass an `input_shape`/`input_dim` argument to a layer. When using Sequential models, prefer using an `Input(shape)` object as the first layer in the model instead.\n",
            "  super().__init__(activity_regularizer=activity_regularizer, **kwargs)\n"
          ]
        },
        {
          "output_type": "stream",
          "name": "stdout",
          "text": [
            "\u001b[1m14/14\u001b[0m \u001b[32m━━━━━━━━━━━━━━━━━━━━\u001b[0m\u001b[37m\u001b[0m \u001b[1m0s\u001b[0m 5ms/step \n",
            "✅ 2024-07-01 → 2024-09-30 | Portfolio: 2806.27 | S&P 500: 1.25\n"
          ]
        },
        {
          "output_type": "stream",
          "name": "stderr",
          "text": [
            "<ipython-input-31-48fc587e30ce>:120: FutureWarning: Series.__getitem__ treating keys as positions is deprecated. In a future version, integer keys will always be treated as labels (consistent with DataFrame behavior). To access a value by position, use `ser.iloc[pos]`\n",
            "  portfolio_value = cumulative[-1]\n",
            "<ipython-input-31-48fc587e30ce>:134: FutureWarning: Series.__getitem__ treating keys as positions is deprecated. In a future version, integer keys will always be treated as labels (consistent with DataFrame behavior). To access a value by position, use `ser.iloc[pos]`\n",
            "  print(f\"✅ {test_start.date()} → {test_end.date()} | Portfolio: {cumulative[-1]:.2f} | S&P 500: {benchmark_value:.2f}\")\n",
            "<ipython-input-31-48fc587e30ce>:149: UserWarning: Glyph 128200 (\\N{CHART WITH UPWARDS TREND}) missing from font(s) DejaVu Sans.\n",
            "  plt.tight_layout()\n",
            "<ipython-input-31-48fc587e30ce>:149: UserWarning: Glyph 127963 (\\N{CLASSICAL BUILDING}) missing from font(s) DejaVu Sans.\n",
            "  plt.tight_layout()\n",
            "/usr/local/lib/python3.11/dist-packages/IPython/core/pylabtools.py:151: UserWarning: Glyph 128200 (\\N{CHART WITH UPWARDS TREND}) missing from font(s) DejaVu Sans.\n",
            "  fig.canvas.print_figure(bytes_io, **kw)\n",
            "/usr/local/lib/python3.11/dist-packages/IPython/core/pylabtools.py:151: UserWarning: Glyph 127963 (\\N{CLASSICAL BUILDING}) missing from font(s) DejaVu Sans.\n",
            "  fig.canvas.print_figure(bytes_io, **kw)\n"
          ]
        },
        {
          "output_type": "display_data",
          "data": {
            "text/plain": [
              "<Figure size 1000x600 with 1 Axes>"
            ],
            "image/png": "[encoded data removed]"
          },
          "metadata": {}
        },
        {
          "output_type": "stream",
          "name": "stdout",
          "text": [
            "\n",
            "📈 Portfolio CAGR: 1240.47%\n",
            "🏛️ S&P 500 Index CAGR: 7.93%\n"
          ]
        }
      ]
    }
  ]
}